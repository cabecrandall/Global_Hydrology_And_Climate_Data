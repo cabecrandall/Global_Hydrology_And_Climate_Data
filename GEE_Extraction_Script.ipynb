{
 "cells": [
  {
   "cell_type": "code",
   "execution_count": 1,
   "metadata": {
    "collapsed": true,
    "ExecuteTime": {
     "end_time": "2023-12-19T23:25:32.887329Z",
     "start_time": "2023-12-19T23:24:53.968095Z"
    }
   },
   "outputs": [
    {
     "data": {
      "text/plain": "<IPython.core.display.HTML object>",
      "text/html": "<p>To authorize access needed by Earth Engine, open the following\n        URL in a web browser and follow the instructions:</p>\n        <p><a href=https://code.earthengine.google.com/client-auth?scopes=https%3A//www.googleapis.com/auth/earthengine%20https%3A//www.googleapis.com/auth/devstorage.full_control&request_id=86J8tRjCNGT4eIXti70ELpt0j5NYPF4hv-LXSpD5doU&tc=gzwuJSWzu34Dw8hCHWO9JXZjVKCkEud4KTZf29xEXJo&cc=5aSa-L_SoC7PhE_nv5cOx4dYv2BiwDoBQJRRXTtLeYM>https://code.earthengine.google.com/client-auth?scopes=https%3A//www.googleapis.com/auth/earthengine%20https%3A//www.googleapis.com/auth/devstorage.full_control&request_id=86J8tRjCNGT4eIXti70ELpt0j5NYPF4hv-LXSpD5doU&tc=gzwuJSWzu34Dw8hCHWO9JXZjVKCkEud4KTZf29xEXJo&cc=5aSa-L_SoC7PhE_nv5cOx4dYv2BiwDoBQJRRXTtLeYM</a></p>\n        <p>The authorization workflow will generate a code, which you should paste in the box below.</p>\n        "
     },
     "metadata": {},
     "output_type": "display_data"
    },
    {
     "name": "stdout",
     "output_type": "stream",
     "text": [
      "\n",
      "Successfully saved authorization token.\n"
     ]
    }
   ],
   "source": [
    "# Import the necesarry libraries\n",
    "import matplotlib.pyplot as plt\n",
    "import pandas as pd\n",
    "import numpy as np\n",
    "\n",
    "from datetime import datetime\n",
    "import ee\n",
    "\n",
    "# Trigger GEE\n",
    "ee.Authenticate()\n",
    "ee.Initialize()"
   ]
  },
  {
   "cell_type": "code",
   "execution_count": null,
   "outputs": [],
   "source": [],
   "metadata": {
    "collapsed": false
   }
  }
 ],
 "metadata": {
  "kernelspec": {
   "display_name": "Python 3",
   "language": "python",
   "name": "python3"
  },
  "language_info": {
   "codemirror_mode": {
    "name": "ipython",
    "version": 2
   },
   "file_extension": ".py",
   "mimetype": "text/x-python",
   "name": "python",
   "nbconvert_exporter": "python",
   "pygments_lexer": "ipython2",
   "version": "2.7.6"
  }
 },
 "nbformat": 4,
 "nbformat_minor": 0
}
