{
 "nbformat": 4,
 "nbformat_minor": 0,
 "metadata": {
  "colab": {
   "provenance": []
  },
  "kernelspec": {
   "name": "python3",
   "language": "python",
   "display_name": "Python 3 (ipykernel)"
  },
  "language_info": {
   "name": "python"
  }
 },
 "cells": [
  {
   "cell_type": "code",
   "execution_count": null,
   "metadata": {
    "id": "pAb_9lj10a0E"
   },
   "outputs": [],
   "source": [
    "!pip install geemap &> install.log"
   ]
  },
  {
   "cell_type": "code",
   "source": [
    "%pylab inline"
   ],
   "metadata": {
    "id": "0oQ3CSCg0hgI",
    "colab": {
     "base_uri": "https://localhost:8080/"
    },
    "outputId": "c5e39af6-2c48-45f2-9ea1-5ce041754d1e"
   },
   "execution_count": null,
   "outputs": [
    {
     "output_type": "stream",
     "name": "stdout",
     "text": [
      "Populating the interactive namespace from numpy and matplotlib\n"
     ]
    }
   ]
  },
  {
   "cell_type": "code",
   "source": [
    "!pip install geopandas"
   ],
   "metadata": {
    "id": "uPulmpsh15dx",
    "colab": {
     "base_uri": "https://localhost:8080/"
    },
    "outputId": "17592376-b15b-462b-ef22-47ad22df3868",
    "ExecuteTime": {
     "end_time": "2024-05-22T04:44:31.584074Z",
     "start_time": "2024-05-22T04:44:29.309972Z"
    }
   },
   "execution_count": 2,
   "outputs": [
    {
     "name": "stdout",
     "output_type": "stream",
     "text": [
      "Requirement already satisfied: geopandas in /Users/calebcrandall/miniconda3/envs/idealabs/lib/python3.10/site-packages (0.13.2)\r\n",
      "Requirement already satisfied: fiona>=1.8.19 in /Users/calebcrandall/miniconda3/envs/idealabs/lib/python3.10/site-packages (from geopandas) (1.9.5)\r\n",
      "Requirement already satisfied: packaging in /Users/calebcrandall/miniconda3/envs/idealabs/lib/python3.10/site-packages (from geopandas) (23.2)\r\n",
      "Requirement already satisfied: pandas>=1.1.0 in /Users/calebcrandall/miniconda3/envs/idealabs/lib/python3.10/site-packages (from geopandas) (1.5.2)\r\n",
      "Requirement already satisfied: pyproj>=3.0.1 in /Users/calebcrandall/miniconda3/envs/idealabs/lib/python3.10/site-packages (from geopandas) (3.6.1)\r\n",
      "Requirement already satisfied: shapely>=1.7.1 in /Users/calebcrandall/miniconda3/envs/idealabs/lib/python3.10/site-packages (from geopandas) (2.0.2)\r\n",
      "Requirement already satisfied: attrs>=19.2.0 in /Users/calebcrandall/miniconda3/envs/idealabs/lib/python3.10/site-packages (from fiona>=1.8.19->geopandas) (23.2.0)\r\n",
      "Requirement already satisfied: click~=8.0 in /Users/calebcrandall/miniconda3/envs/idealabs/lib/python3.10/site-packages (from fiona>=1.8.19->geopandas) (8.1.7)\r\n",
      "Requirement already satisfied: click-plugins>=1.0 in /Users/calebcrandall/miniconda3/envs/idealabs/lib/python3.10/site-packages (from fiona>=1.8.19->geopandas) (1.1.1)\r\n",
      "Requirement already satisfied: cligj>=0.5 in /Users/calebcrandall/miniconda3/envs/idealabs/lib/python3.10/site-packages (from fiona>=1.8.19->geopandas) (0.7.2)\r\n",
      "Requirement already satisfied: six in /Users/calebcrandall/miniconda3/envs/idealabs/lib/python3.10/site-packages (from fiona>=1.8.19->geopandas) (1.16.0)\r\n",
      "Requirement already satisfied: setuptools in /Users/calebcrandall/miniconda3/envs/idealabs/lib/python3.10/site-packages (from fiona>=1.8.19->geopandas) (69.0.3)\r\n",
      "Requirement already satisfied: python-dateutil>=2.8.1 in /Users/calebcrandall/miniconda3/envs/idealabs/lib/python3.10/site-packages (from pandas>=1.1.0->geopandas) (2.8.2)\r\n",
      "Requirement already satisfied: pytz>=2020.1 in /Users/calebcrandall/miniconda3/envs/idealabs/lib/python3.10/site-packages (from pandas>=1.1.0->geopandas) (2023.3.post1)\r\n",
      "Requirement already satisfied: numpy>=1.21.0 in /Users/calebcrandall/miniconda3/envs/idealabs/lib/python3.10/site-packages (from pandas>=1.1.0->geopandas) (1.24.3)\r\n",
      "Requirement already satisfied: certifi in /Users/calebcrandall/miniconda3/envs/idealabs/lib/python3.10/site-packages (from pyproj>=3.0.1->geopandas) (2024.2.2)\r\n"
     ]
    }
   ]
  },
  {
   "cell_type": "code",
   "source": [
    "import ee\n",
    "import json\n",
    "import datetime\n",
    "import pandas as pd\n",
    "#import geemap\n",
    "import os\n",
    "import math\n",
    "import geopandas as gpd\n",
    "import re\n",
    "import numpy as np"
   ],
   "metadata": {
    "id": "9C4_96SI0iC-",
    "ExecuteTime": {
     "end_time": "2024-05-22T04:44:40.098368Z",
     "start_time": "2024-05-22T04:44:37.799320Z"
    }
   },
   "execution_count": 4,
   "outputs": []
  },
  {
   "cell_type": "code",
   "source": [
    "try:\n",
    "    ee.Initialize()\n",
    "except:\n",
    "    ee.Authenticate(auth_mode='notebook')\n",
    "    ee.Initialize(project='potential-evap')"
   ],
   "metadata": {
    "id": "Wg2brN1M0kjU",
    "colab": {
     "base_uri": "https://localhost:8080/"
    },
    "outputId": "8696659b-a057-4be5-dfb1-6b6639f89e77",
    "ExecuteTime": {
     "end_time": "2024-05-22T04:44:43.924038Z",
     "start_time": "2024-05-22T04:44:42.771456Z"
    }
   },
   "execution_count": 5,
   "outputs": []
  },
  {
   "cell_type": "code",
   "execution_count": 6,
   "outputs": [],
   "source": [
    "def longest_numeric_substring(string):\n",
    "    return max(re.findall(r'\\d+', string), key=len)"
   ],
   "metadata": {
    "collapsed": false,
    "ExecuteTime": {
     "end_time": "2024-05-22T04:44:45.552484Z",
     "start_time": "2024-05-22T04:44:45.544101Z"
    }
   }
  },
  {
   "cell_type": "code",
   "source": [
    "ET_ts_path = 'PET_TS/'\n",
    "ET_ts_exported = []\n",
    "for file in os.listdir(ET_ts_path):\n",
    "  file_path = os.path.join(ET_ts_path,file)\n",
    "  ET_ts_exported.append(file_path[-11:-4])\n",
    "\n",
    "print(len(ET_ts_exported))"
   ],
   "metadata": {
    "colab": {
     "base_uri": "https://localhost:8080/",
     "height": 232
    },
    "id": "68PfcGxv21SD",
    "outputId": "e0f91331-8274-4e31-e53c-7b1f45a70355",
    "ExecuteTime": {
     "end_time": "2024-05-22T04:44:47.648782Z",
     "start_time": "2024-05-22T04:44:47.643661Z"
    }
   },
   "execution_count": 7,
   "outputs": [
    {
     "name": "stdout",
     "output_type": "stream",
     "text": [
      "0\n"
     ]
    }
   ]
  },
  {
   "cell_type": "code",
   "source": [
    "shapefiles_list = []\n",
    "path = \"../Shapefiles/GAGES_smooth_shp\"\n",
    "count_tot_shps = 0\n",
    "count_shps_not_exp = 0\n",
    "\n",
    "for file in os.listdir(path):\n",
    "  if file.endswith('.shp'):\n",
    "    count_tot_shps += 1\n",
    "    file_path = os.path.join(path,file)\n",
    "    basin_no = file_path[-11:-4] #string\n",
    "    if (basin_no not in ET_ts_exported):\n",
    "      count_shps_not_exp += 1\n",
    "      shapefiles_list.append(file_path)\n",
    "\n",
    "print(len(shapefiles_list))"
   ],
   "metadata": {
    "colab": {
     "base_uri": "https://localhost:8080/"
    },
    "id": "hYd82DcB3ARM",
    "outputId": "81d9613c-cc47-43d1-d46a-abd29710a1e3",
    "ExecuteTime": {
     "end_time": "2024-05-22T04:44:49.998665Z",
     "start_time": "2024-05-22T04:44:49.924174Z"
    }
   },
   "execution_count": 8,
   "outputs": [
    {
     "name": "stdout",
     "output_type": "stream",
     "text": [
      "9322\n"
     ]
    }
   ]
  },
  {
   "cell_type": "code",
   "source": [
    "bounds = None\n",
    "def region_et(image):\n",
    "    # reduction function\n",
    "    et = image.reduceRegion( #zonal statistics\n",
    "        reducer = ee.Reducer.mean(),\n",
    "        geometry = bounds,\n",
    "        scale = 1000 # 1 km\n",
    "    )\n",
    "    # set the result as a metadata property in the image\n",
    "    return image.set(et)"
   ],
   "metadata": {
    "id": "Vc6ZtK1dH-Ku",
    "ExecuteTime": {
     "end_time": "2024-05-22T04:44:53.430961Z",
     "start_time": "2024-05-22T04:44:53.426062Z"
    }
   },
   "execution_count": 9,
   "outputs": []
  },
  {
   "cell_type": "code",
   "source": [
    "for i in range(len(shapefiles_list)):\n",
    "# for i in range(1):\n",
    "  shapefile = gpd.read_file(shapefiles_list[i])\n",
    "\n",
    "  features = []\n",
    "  for j in range(shapefile.shape[0]):\n",
    "    geom = shapefile.iloc[j:j+1,:]\n",
    "    jsonDict = eval(geom.to_json())\n",
    "    geojsonDict = jsonDict['features'][0]\n",
    "    features.append(ee.Feature(geojsonDict))\n",
    "\n",
    "  fc = ee.FeatureCollection(features)\n",
    "  bounds = fc.geometry().bounds()\n",
    "\n",
    "  mod16 = ee.ImageCollection(\"MODIS/061/MOD16A2GF\").select(\"PET\").filterBounds(bounds)\n",
    "  # apply the function and filter for images that were not all masked\n",
    "  ET_region = mod16.map(region_et).filter(ee.Filter.neq(\"PET\",None))\n",
    "\n",
    "  timeseries = ET_region.aggregate_array(\"PET\").getInfo()\n",
    "  timestamp = ET_region.aggregate_array(\"system:time_start\").getInfo()\n",
    "  dates = pd.to_datetime(np.array(timestamp)*1e6)\n",
    "  region_series = pd.Series(timeseries,index=dates,name=\"Region PET [kg/m^2/8day]\")\n",
    "\n",
    "  #-----------------------\n",
    "  region_series_df = pd.DataFrame(region_series)\n",
    "\n",
    "  # df.plot(figsize=(15,11))\n",
    "  file_PathName = 'PET_TS/' + 'basin_' + longest_numeric_substring(shapefiles_list[i]) + '.csv'\n",
    "  print(i, '.) ', shapefiles_list[i][-11:-4])\n",
    "  region_series_df.to_csv(path_or_buf=file_PathName,index=True)"
   ],
   "metadata": {
    "colab": {
     "base_uri": "https://localhost:8080/"
    },
    "id": "rJJEfyC18vS0",
    "outputId": "973acf82-4761-4af1-e042-a04b5738d7a3",
    "is_executing": true,
    "ExecuteTime": {
     "start_time": "2024-05-22T04:45:21.118080Z"
    }
   },
   "execution_count": null,
   "outputs": [
    {
     "name": "stdout",
     "output_type": "stream",
     "text": [
      "0 .)  5286000\n",
      "1 .)  1040000\n",
      "2 .)  8086050\n",
      "3 .)  7195865\n",
      "4 .)  4253500\n",
      "5 .)  4309500\n",
      "6 .)  1044500\n",
      "7 .)  4208504\n",
      "8 .)  4257000\n",
      "9 .)  6342260\n",
      "10 .)  4164300\n",
      "11 .)  1108410\n",
      "12 .)  1140000\n",
      "13 .)  4160600\n"
     ]
    }
   ]
  }
 ]
}
